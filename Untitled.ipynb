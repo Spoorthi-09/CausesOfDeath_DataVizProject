{
 "cells": [
  {
   "cell_type": "code",
   "execution_count": 15,
   "id": "febabb06",
   "metadata": {},
   "outputs": [],
   "source": [
    "import geopandas as gpd\n",
    "import pandas as pd\n",
    "import json\n",
    "\n",
    "# Load GeoJSON data\n",
    "with open('world.geojson', 'r') as f:\n",
    "    geojson_data = json.load(f)\n",
    "\n",
    "# Load CSV data\n",
    "csv_data = pd.read_csv('deaths_gdp_obesity_sorted.csv')\n",
    "\n",
    "# Convert GeoJSON data to GeoDataFrame\n",
    "gdf = gpd.GeoDataFrame.from_features(geojson_data['features'])\n",
    "\n",
    "# Merge GeoDataFrame with CSV data based on a common attribute (e.g., 'name' or 'id')\n",
    "merged_gdf = gdf.merge(csv_data[['Country/Territory','Year', 'total_deaths']], \n",
    "                       how='left', \n",
    "                       left_on='name', \n",
    "                       right_on='Country/Territory')\n",
    "\n",
    "merged_gdf = merged_gdf.drop(columns=['Country/Territory'])\n",
    "\n",
    "# Convert the merged GeoDataFrame back to GeoJSON\n",
    "merged_geojson = json.loads(merged_gdf.to_json())\n",
    "\n",
    "# Save the updated GeoJSON data to a file\n",
    "with open('merged_geojson_with_data.geojson', 'w') as f:\n",
    "    json.dump(merged_geojson, f)\n"
   ]
  },
  {
   "cell_type": "code",
   "execution_count": 9,
   "id": "e57a91c8",
   "metadata": {},
   "outputs": [],
   "source": [
    "with open('merged_geojson_with_data.geojson', 'r') as f:\n",
    "    geojson_data = json.load(f)"
   ]
  },
  {
   "cell_type": "code",
   "execution_count": 10,
   "id": "c997d768",
   "metadata": {},
   "outputs": [],
   "source": [
    "g = gpd.GeoDataFrame.from_features(geojson_data['features'])"
   ]
  },
  {
   "cell_type": "code",
   "execution_count": 11,
   "id": "0ce86de9",
   "metadata": {},
   "outputs": [
    {
     "data": {
      "text/plain": [
       "geometry        geometry\n",
       "name              object\n",
       "Year             float64\n",
       "total_deaths     float64\n",
       "dtype: object"
      ]
     },
     "execution_count": 11,
     "metadata": {},
     "output_type": "execute_result"
    }
   ],
   "source": [
    "g.dtypes"
   ]
  },
  {
   "cell_type": "code",
   "execution_count": 13,
   "id": "774ffd3d",
   "metadata": {},
   "outputs": [
    {
     "data": {
      "text/plain": [
       "Country/Territory                              object\n",
       "Code                                           object\n",
       "Year                                            int64\n",
       "Meningitis                                      int64\n",
       "Alzheimer's Disease and Other Dementias         int64\n",
       "Parkinson's Disease                             int64\n",
       "Nutritional Deficiencies                        int64\n",
       "Malaria                                         int64\n",
       "Drowning                                        int64\n",
       "Interpersonal Violence                          int64\n",
       "Maternal Disorders                              int64\n",
       "HIV/AIDS                                        int64\n",
       "Drug Use Disorders                              int64\n",
       "Tuberculosis                                    int64\n",
       "Cardiovascular Diseases                         int64\n",
       "Lower Respiratory Infections                    int64\n",
       "Neonatal Disorders                              int64\n",
       "Alcohol Use Disorders                           int64\n",
       "Self-harm                                       int64\n",
       "Exposure to Forces of Nature                    int64\n",
       "Diarrheal Diseases                              int64\n",
       "Environmental Heat and Cold Exposure            int64\n",
       "Neoplasms                                       int64\n",
       "Conflict and Terrorism                          int64\n",
       "Diabetes Mellitus                               int64\n",
       "Chronic Kidney Disease                          int64\n",
       "Poisonings                                      int64\n",
       "Protein-Energy Malnutrition                     int64\n",
       "Road Injuries                                   int64\n",
       "Chronic Respiratory Diseases                    int64\n",
       "Cirrhosis and Other Chronic Liver Diseases      int64\n",
       "Digestive Diseases                              int64\n",
       "Fire, Heat, and Hot Substances                  int64\n",
       "Acute Hepatitis                                 int64\n",
       "total_deaths                                    int64\n",
       "Value                                         float64\n",
       "Obesity (%)                                   float64\n",
       "dtype: object"
      ]
     },
     "execution_count": 13,
     "metadata": {},
     "output_type": "execute_result"
    }
   ],
   "source": [
    "csv_data.dtypes"
   ]
  },
  {
   "cell_type": "code",
   "execution_count": 19,
   "id": "fd18ffce",
   "metadata": {},
   "outputs": [],
   "source": [
    "import json\n",
    "from collections import defaultdict\n",
    "import geojson\n",
    "\n",
    "# Load the GeoJSON data from the file\n",
    "with open('merged_geojson_with_data.geojson', 'r') as file:\n",
    "    data = json.load(file)\n",
    "\n",
    "# Create a dictionary to store country data\n",
    "countries = defaultdict(list)\n",
    "\n",
    "# Group features by country name\n",
    "for feature in data['features']:\n",
    "    country_name = feature['properties']['name']\n",
    "    countries[country_name].append(feature)\n",
    "\n",
    "# Create a new list of features with shared geometries for each country\n",
    "new_features = []\n",
    "for country_name, features in countries.items():\n",
    "    shared_geometry = features[0]['geometry']  # Take the geometry from the first feature\n",
    "    for feature in features:\n",
    "        year = feature['properties']['Year']\n",
    "        total_deaths = feature['properties']['total_deaths']\n",
    "        if year is not None:\n",
    "            year = int(year)\n",
    "        new_features.append({\n",
    "            'type': 'Feature',\n",
    "            'properties': {'name': country_name, 'Year': year, 'total_deaths': total_deaths},\n",
    "            'geometry': shared_geometry\n",
    "        })\n",
    "\n",
    "# Construct the new FeatureCollection\n",
    "new_geojson = geojson.FeatureCollection(new_features)\n",
    "\n",
    "# Export the modified GeoJSON to a new file\n",
    "with open('modified_geojson.geojson', 'w') as output_file:\n",
    "    geojson.dump(new_geojson, output_file)\n"
   ]
  },
  {
   "cell_type": "code",
   "execution_count": 17,
   "id": "f084d693",
   "metadata": {},
   "outputs": [
    {
     "name": "stdout",
     "output_type": "stream",
     "text": [
      "Defaulting to user installation because normal site-packages is not writeable\n",
      "Collecting geojson\n",
      "  Obtaining dependency information for geojson from https://files.pythonhosted.org/packages/8e/1b/4f57660aa148d3e3043d048b7e1ab87dfeb85204d0fdb5b4e19c08202162/geojson-3.1.0-py3-none-any.whl.metadata\n",
      "  Downloading geojson-3.1.0-py3-none-any.whl.metadata (16 kB)\n",
      "Downloading geojson-3.1.0-py3-none-any.whl (15 kB)\n",
      "Installing collected packages: geojson\n",
      "Successfully installed geojson-3.1.0\n"
     ]
    }
   ],
   "source": [
    "!pip install geojson"
   ]
  },
  {
   "cell_type": "code",
   "execution_count": null,
   "id": "74f610e6",
   "metadata": {},
   "outputs": [],
   "source": []
  }
 ],
 "metadata": {
  "kernelspec": {
   "display_name": "Python 3 (ipykernel)",
   "language": "python",
   "name": "python3"
  },
  "language_info": {
   "codemirror_mode": {
    "name": "ipython",
    "version": 3
   },
   "file_extension": ".py",
   "mimetype": "text/x-python",
   "name": "python",
   "nbconvert_exporter": "python",
   "pygments_lexer": "ipython3",
   "version": "3.11.4"
  }
 },
 "nbformat": 4,
 "nbformat_minor": 5
}
