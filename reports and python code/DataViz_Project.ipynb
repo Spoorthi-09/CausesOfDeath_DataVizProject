{
  "cells": [
    {
      "cell_type": "code",
      "execution_count": null,
      "metadata": {
        "id": "lPIRv4UrZE2L"
      },
      "outputs": [],
      "source": [
        "import pandas as pd\n",
        "\n",
        "# Read the CSV files into DataFrames\n",
        "gdp_df = pd.read_csv(\"/content/gdp_csv.csv\")\n",
        "deaths_df = pd.read_csv(\"/content/deaths.csv\")\n",
        "obesity_df = pd.read_csv(\"/content/obesity.csv\")\n",
        "\n",
        "# Merge datasets using an outer join to keep all rows\n",
        "merged_df = deaths_df.merge(gdp_df[['Country Name', 'Year', 'Value']], left_on=['Country/Territory', 'Year'], right_on=['Country Name', 'Year'], how='left')\n",
        "merged_df = merged_df.merge(obesity_df, left_on=['Country/Territory', 'Year'], right_on=['Country', 'Year'], how='left')\n",
        "\n",
        "# Drop the duplicate columns\n",
        "merged_df = merged_df.drop(['Country Name', 'Country'], axis=1)\n",
        "\n",
        "# Save the merged DataFrame to a CSV file\n",
        "merged_df.to_csv(\"/content/deaths_gdp_obesity.csv\", index=False)\n"
      ]
    },
    {
      "cell_type": "code",
      "source": [
        "import pandas as pd\n",
        "\n",
        "# Load the dataset\n",
        "data = pd.read_csv('/content/deaths_gdp_obesity.csv')\n",
        "\n",
        "# Define a function to fill null values with the mean of the same country\n",
        "def fill_null_with_country_mean(df, column_name):\n",
        "    df[column_name] = df.groupby('Country/Territory')[column_name].transform(lambda x: x.fillna(x.mean()))\n",
        "\n",
        "# Replace null values in \"Value\" and \"Obesity (%)\" with the mean of the same country\n",
        "fill_null_with_country_mean(data, 'Value')\n",
        "fill_null_with_country_mean(data, 'Obesity (%)')\n",
        "\n",
        "# Save the updated dataset\n",
        "data.to_csv('/content/deaths_gdp_obesity_filled.csv', index=False)\n"
      ],
      "metadata": {
        "id": "p1Hb2bqdf7sY"
      },
      "execution_count": null,
      "outputs": []
    },
    {
      "cell_type": "code",
      "source": [
        "import pandas as pd\n",
        "\n",
        "# Load the dataset\n",
        "data = pd.read_csv('/content/deaths_gdp_obesity_filled.csv')\n",
        "\n",
        "# Sort the data for each country by year in ascending order\n",
        "data = data.groupby('Country/Territory').apply(lambda x: x.sort_values('Year')).reset_index(drop=True)\n",
        "\n",
        "# Save the sorted dataset\n",
        "data.to_csv('/content/deaths_gdp_obesity_sorted.csv', index=False)\n"
      ],
      "metadata": {
        "id": "W72XUYyHj5k1"
      },
      "execution_count": null,
      "outputs": []
    },
    {
      "cell_type": "code",
      "source": [
        "import pandas as pd\n",
        "\n",
        "# Load the deaths_gdp_obesity_filled.csv and gdp_csv.csv files\n",
        "deaths_gdp_obesity = pd.read_csv('/content/deaths_gdp_obesity_sorted.csv')\n",
        "gdp_data = pd.read_csv('/content/gdp_csv.csv')\n",
        "\n",
        "# Filter the gdp_data for \"RUS\" Country Code\n",
        "gdp_rus = gdp_data[gdp_data['Country Code'] == 'RUS']\n",
        "\n",
        "# Merge the deaths_gdp_obesity and gdp_rus dataframes using a left join on 'Year'\n",
        "result = pd.merge(deaths_gdp_obesity, gdp_rus[['Year', 'Value']], on='Year', how='left')\n",
        "\n",
        "# Save the merged data to a new CSV file\n",
        "result.to_csv('/content/deaths_gdp_obesity_merged.csv', index=False)\n"
      ],
      "metadata": {
        "id": "A_HxCW7Ak3CO"
      },
      "execution_count": null,
      "outputs": []
    },
    {
      "cell_type": "code",
      "source": [],
      "metadata": {
        "id": "WfI6VdbJnBbk"
      },
      "execution_count": null,
      "outputs": []
    }
  ],
  "metadata": {
    "colab": {
      "provenance": []
    },
    "kernelspec": {
      "display_name": "Python 3",
      "name": "python3"
    },
    "language_info": {
      "name": "python"
    }
  },
  "nbformat": 4,
  "nbformat_minor": 0
}